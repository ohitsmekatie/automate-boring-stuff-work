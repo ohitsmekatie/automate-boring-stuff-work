{
 "cells": [
  {
   "cell_type": "code",
   "execution_count": null,
   "metadata": {},
   "outputs": [],
   "source": [
    "# function: mini program within a program \n",
    "\n",
    "def hello():\n",
    "    print(\"Hello!\")\n",
    "    print(\"Howdy!!!!\")\n",
    "    print(\"Hi there.\")\n",
    "    \n",
    "hello()\n",
    "hello()\n",
    "hello()"
   ]
  },
  {
   "cell_type": "code",
   "execution_count": null,
   "metadata": {},
   "outputs": [],
   "source": [
    "# using parameters with functions \n",
    "\n",
    "# name is the parameter. when you pass a value in during the function call that is an argument \n",
    "# once you run the function the value is lost forever unless you return it \n",
    "def hello(name):\n",
    "    print(\"Hello\", name)\n",
    "\n",
    "user_name = input(\"What is your name? \")\n",
    "\n",
    "hello(user_name)"
   ]
  },
  {
   "cell_type": "code",
   "execution_count": null,
   "metadata": {},
   "outputs": [],
   "source": [
    "# magic 8 ball w/ return example \n",
    "\n",
    "import random\n",
    "\n",
    "def get_answer(answer_number):\n",
    "    if answer_number == 1:\n",
    "        return \"It is certain.\"\n",
    "    elif answer_number == 2:\n",
    "        return \"It is decidedly so.\"\n",
    "    elif answer_number == 3:\n",
    "        return \"Yes.\"\n",
    "    elif answer_number == 4:\n",
    "        return \"Reply hazy. Try again.\"\n",
    "    elif answer_number == 5:\n",
    "        return \"Ask again later.\"\n",
    "    elif answer_number == 6:\n",
    "        return \"Concentrate and ask again.\"\n",
    "    elif answer_number == 7: \n",
    "        return \"My reply is no.\"\n",
    "    elif answer_number == 8:\n",
    "        return \"Outlook not so good.\"\n",
    "    elif answer_number == 9:\n",
    "        return \"Very doubtful.\"\n",
    "\n",
    "# generate a random integer between 1 and 9 and save to r\n",
    "r = random.randint(1,9)\n",
    "# call the function with r and save it in fortune \n",
    "fortune = get_answer(r)\n",
    "# print fortune!\n",
    "print(fortune)\n",
    "\n",
    "# refactoring and shortening the code \n",
    "\n",
    "print(get_answer(random.randint(1,9)))"
   ]
  },
  {
   "cell_type": "code",
   "execution_count": null,
   "metadata": {},
   "outputs": [],
   "source": [
    "# using None \n",
    "\n",
    "spam = print(\"hello\")\n",
    "# can be used for while loops \n",
    "\n",
    "None == spam"
   ]
  },
  {
   "cell_type": "code",
   "execution_count": null,
   "metadata": {},
   "outputs": [],
   "source": [
    "print(\"cats\", \"dogs\", \"mice\", \"elephants\", sep=\" !!!! \")\n"
   ]
  },
  {
   "cell_type": "code",
   "execution_count": null,
   "metadata": {},
   "outputs": [],
   "source": [
    "# experimenting with global variables \n",
    "\n",
    "def spam():\n",
    "    global eggs \n",
    "    eggs = \"spam\"\n",
    "\n",
    "eggs = \"global\"\n",
    "spam()\n",
    "print(eggs)"
   ]
  },
  {
   "cell_type": "code",
   "execution_count": null,
   "metadata": {},
   "outputs": [],
   "source": [
    "def spam():\n",
    "    global eggs \n",
    "    eggs = \"spam\"# this is the global variable \n",
    "\n",
    "def bacon():\n",
    "    eggs = \"bacon\" # local variable \n",
    "    print(eggs)\n",
    "    \n",
    "def ham():\n",
    "    print(eggs) # will print the global \n",
    "\n",
    "eggs = 42 \n",
    "spam()\n",
    "bacon()\n",
    "ham()\n",
    "print(eggs)"
   ]
  },
  {
   "cell_type": "code",
   "execution_count": null,
   "metadata": {},
   "outputs": [],
   "source": [
    "# exception handling \n",
    "\n",
    "def spam(num):\n",
    "    try:\n",
    "        return 42 / num \n",
    "    except ZeroDivisionError:\n",
    "        print(\"Error: Invalid argument.\")\n",
    "\n",
    "print(spam(2))\n",
    "print(spam(0))\n",
    "print(spam(12))\n",
    "print(spam(1))"
   ]
  },
  {
   "cell_type": "code",
   "execution_count": null,
   "metadata": {},
   "outputs": [],
   "source": [
    "# guess the number program \n",
    "# write a program that generates a number (1 - 20) and let's the user guess.\n",
    "# incremement guess count (or decrement)\n",
    "\n",
    "import random \n",
    "\n",
    "game_num = random.randint(1, 20)\n",
    "print(\"I am thinking of a number between 1 and 20.\")\n",
    "\n",
    "for guesses in range(1,7):\n",
    "    guess = int(input(\"Take a guess: \"))\n",
    "    \n",
    "    if guess < game_num:\n",
    "        print(\"Your guess is too low.\")\n",
    "    elif guess > game_num:\n",
    "        print(\"Your guess is too high.\")\n",
    "    else:\n",
    "        break\n",
    "if guess == game_num:\n",
    "    print(\"Good job! You guessed the number in \" + str(guesses) + \" tries.\")\n",
    "else:\n",
    "    print(\"Sorry. The number was \" + str(game_num))"
   ]
  },
  {
   "cell_type": "code",
   "execution_count": 9,
   "metadata": {},
   "outputs": [
    {
     "name": "stdout",
     "output_type": "stream",
     "text": [
      "Enter n: 31\n",
      "Sequence: 31 94 47 142 71 214 107 322 161 484 242 121 364 182 91 274 137 412 206 103 310 155 466 233 700 350 175 526 263 790 395 1186 593 1780 890 445 1336 668 334 167 502 251 754 377 1132 566 283 850 425 1276 638 319 958 479 1438 719 2158 1079 3238 1619 4858 2429 7288 3644 1822 911 2734 1367 4102 2051 6154 3077 9232 4616 2308 1154 577 1732 866 433 1300 650 325 976 488 244 122 61 184 92 46 23 70 35 106 53 160 80 40 20 10 5 16 8 4 2 1"
     ]
    }
   ],
   "source": [
    "# chapter practice project \n",
    "\n",
    "def collatz(num):\n",
    "        while num > 1:\n",
    "            print (num, end=\" \")\n",
    "            if (num % 2):\n",
    "                num = 3 * num + 1\n",
    "            else:\n",
    "                num = num // 2 \n",
    "        print(1, end='')      \n",
    "\n",
    "try:\n",
    "    num = int(input('Enter n: '))\n",
    "    print('Sequence: ', end='')\n",
    "    collatz(num)\n",
    "except ValueError:\n",
    "    print(\"Sorry, please enter a number.\")\n"
   ]
  },
  {
   "cell_type": "code",
   "execution_count": null,
   "metadata": {},
   "outputs": [],
   "source": []
  },
  {
   "cell_type": "code",
   "execution_count": null,
   "metadata": {},
   "outputs": [],
   "source": []
  }
 ],
 "metadata": {
  "kernelspec": {
   "display_name": "Python 3",
   "language": "python",
   "name": "python3"
  },
  "language_info": {
   "codemirror_mode": {
    "name": "ipython",
    "version": 3
   },
   "file_extension": ".py",
   "mimetype": "text/x-python",
   "name": "python",
   "nbconvert_exporter": "python",
   "pygments_lexer": "ipython3",
   "version": "3.8.3"
  }
 },
 "nbformat": 4,
 "nbformat_minor": 4
}
