{
 "cells": [
  {
   "cell_type": "code",
   "execution_count": 11,
   "metadata": {},
   "outputs": [
    {
     "name": "stdout",
     "output_type": "stream",
     "text": [
      "['random', 'list', 'of', 'words']\n",
      "random\n",
      "random\n",
      "list\n",
      "of\n",
      "words\n",
      "[['random', 'list', 'of', 'words'], ['random', 'list', 'of', 'words', 'again']]\n",
      "['random', 'list', 'of', 'words']\n",
      "list\n",
      "['NOPE', 'list', 'of', 'words']\n",
      "['NOPE', 'list', 'of', 'words', ['random', 'list', 'of', 'words'], ['random', 'list', 'of', 'words', 'again']]\n",
      "['NOPE', 'of', 'words', ['random', 'list', 'of', 'words'], ['random', 'list', 'of', 'words', 'again']]\n"
     ]
    }
   ],
   "source": [
    "test_list = [\"random\",\"list\", \"of\", \"words\"]\n",
    "\n",
    "print(test_list)\n",
    "print(test_list[0])\n",
    "\n",
    "for item in test_list:\n",
    "    print(item)\n",
    "\n",
    "list_of_list = [[\"random\",\"list\", \"of\", \"words\"], [\"random\",\"list\", \"of\", \"words\", \"again\"]]\n",
    "print(list_of_list)\n",
    "print(list_of_list[0])\n",
    "print(list_of_list[0][1])\n",
    "\n",
    "test_list[0] = \"NOPE\"\n",
    "print(test_list)\n",
    "\n",
    "new_list = test_list + list_of_list\n",
    "print(new_list)\n",
    "\n",
    "del new_list[1]\n",
    "print(new_list)\n",
    "\n"
   ]
  },
  {
   "cell_type": "code",
   "execution_count": 22,
   "metadata": {},
   "outputs": [
    {
     "name": "stdout",
     "output_type": "stream",
     "text": [
      "Index 0in supplies is: pens\n",
      "Index 1in supplies is: staplers\n",
      "Index 2in supplies is: flame-throwers\n",
      "Index 3in supplies is: binders\n"
     ]
    },
    {
     "data": {
      "text/plain": [
       "True"
      ]
     },
     "execution_count": 22,
     "metadata": {},
     "output_type": "execute_result"
    }
   ],
   "source": [
    "supplies = [\"pens\", \"staplers\", \"flame-throwers\", \"binders\"]\n",
    "\n",
    "for i in range(len(supplies)):\n",
    "    print(\"Index \" + str(i) + \"in supplies is: \" + supplies[i])\n",
    "\n",
    "\"pens\" in supplies\n",
    "\"cats\" in supplies\n",
    "\"cats\" not in supplies\n"
   ]
  },
  {
   "cell_type": "code",
   "execution_count": 26,
   "metadata": {},
   "outputs": [
    {
     "name": "stdout",
     "output_type": "stream",
     "text": [
      "Enter a pet name:\n",
      "jo\n",
      "I don't have a pet named jo\n"
     ]
    }
   ],
   "source": [
    "my_pets = [\"Brian\", \"Stephen\", \"Hank\", \"Brian\"]\n",
    "\n",
    "print(\"Enter a pet name:\")\n",
    "name = input()\n",
    "\n",
    "if name not in my_pets:\n",
    "    print(\"I don't have a pet named \" + name)\n",
    "else:\n",
    "    print(name + \" is a pet I have.\")"
   ]
  },
  {
   "cell_type": "code",
   "execution_count": 37,
   "metadata": {},
   "outputs": [
    {
     "name": "stdout",
     "output_type": "stream",
     "text": [
      "['Booboo', 'Booboo', 'Booboo', 'Booboo', 'Booboo', 'Booboo', 'Booboo', 'Brian', 'Brian', 'Max', 'Max', 'Max', 'Max', 'Max', 'Max', 'Max', 'Max', 'Scoobie', 'Scoobie', 'Scoobie', 'Scoobie', 'Scoobie', 'Scoobie', 'Scoobie', 'Scoobie', 'Stephen', 'Scoobie']\n",
      "['Booboo', 'Max', 'Booboo', 'Booboo', 'Booboo', 'Booboo', 'Booboo', 'Booboo', 'Brian', 'Brian', 'Max', 'Max', 'Max', 'Max', 'Max', 'Max', 'Max', 'Max', 'Scoobie', 'Scoobie', 'Scoobie', 'Scoobie', 'Scoobie', 'Scoobie', 'Scoobie', 'Scoobie', 'Stephen', 'Booboo', 'Scoobie']\n",
      "['Booboo', 'Max', 'Booboo', 'Booboo', 'Booboo', 'Booboo', 'Booboo', 'Booboo', 'Brian', 'Brian', 'Max', 'Max', 'Max', 'Max', 'Max', 'Max', 'Max', 'Max', 'Scoobie', 'Scoobie', 'Scoobie', 'Scoobie', 'Scoobie', 'Scoobie', 'Scoobie', 'Scoobie', 'Stephen', 'Booboo', 'Scoobie']\n"
     ]
    },
    {
     "data": {
      "text/plain": [
       "[-50, 0, 1, 44, 62, 75, 500, 666, 4444, 9870, 200000]"
      ]
     },
     "execution_count": 37,
     "metadata": {},
     "output_type": "execute_result"
    }
   ],
   "source": [
    "# list methods \n",
    "\n",
    "# when there are dupes in a list the index of the first one is returned \n",
    "my_pets.index(\"Brian\")\n",
    "\n",
    "# appends to the end of a list \n",
    "my_pets.append(\"Scoobie\")\n",
    "print(my_pets)\n",
    "\n",
    "# insert let's you decide where you add the new value in the list \n",
    "my_pets.insert(1, \"Max\")\n",
    "my_pets.insert(-1, \"Booboo\")\n",
    "print(my_pets)\n",
    "\n",
    "# if a value appears multiple times only the first instance is removed \n",
    "#my_pets.remove(\"Hank\")\n",
    "print(my_pets)\n",
    "\n",
    "# sort sorts the list in place. you cannot save it to a variable \n",
    "# you can't sort lists that have different data types (strings and ints for ex)\n",
    "# if there are mixed capital and lower case sort will count capitals before lowers bc it uses ASCIIbetical order \n",
    "number_list = [500, 44, -50, 62, 200000, 75, 1, 0, 4444, 666, 9870]\n",
    "number_list.sort()\n",
    "number_list\n",
    "# my_pets.sort()\n",
    "# my_pets"
   ]
  },
  {
   "cell_type": "code",
   "execution_count": 39,
   "metadata": {},
   "outputs": [
    {
     "name": "stdout",
     "output_type": "stream",
     "text": [
      "Outlook is not so good\n"
     ]
    }
   ],
   "source": [
    "# magic 8 ball with lists \n",
    "\n",
    "import random \n",
    "\n",
    "messages = [\"It is certain\", \n",
    "            \"It is decidedly so\", \n",
    "            \"Yes, definitely\", \n",
    "            \" Reply hazy try again\", \n",
    "            \"Ask again later\", \n",
    "            \"Concentrate and ask again\",\n",
    "            \"My reply is no\",\n",
    "             \"Outlook is not so good\",\n",
    "             \"Very doubtful\"]\n",
    "print(messages[random.randint(0,len(messages) -1)])"
   ]
  },
  {
   "cell_type": "code",
   "execution_count": 42,
   "metadata": {},
   "outputs": [
    {
     "name": "stdout",
     "output_type": "stream",
     "text": [
      "***K***\n",
      "***a***\n",
      "***t***\n",
      "***i***\n",
      "***e***\n"
     ]
    }
   ],
   "source": [
    "name = \"Katie\"\n",
    "name[0]\n",
    "\n",
    "for char in name:\n",
    "    print(\"***\" + char + \"***\")"
   ]
  },
  {
   "cell_type": "code",
   "execution_count": null,
   "metadata": {},
   "outputs": [],
   "source": []
  }
 ],
 "metadata": {
  "kernelspec": {
   "display_name": "Python 3",
   "language": "python",
   "name": "python3"
  },
  "language_info": {
   "codemirror_mode": {
    "name": "ipython",
    "version": 3
   },
   "file_extension": ".py",
   "mimetype": "text/x-python",
   "name": "python",
   "nbconvert_exporter": "python",
   "pygments_lexer": "ipython3",
   "version": "3.8.3"
  }
 },
 "nbformat": 4,
 "nbformat_minor": 4
}
