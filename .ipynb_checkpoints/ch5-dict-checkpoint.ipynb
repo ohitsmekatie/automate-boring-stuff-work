{
 "cells": [
  {
   "cell_type": "code",
   "execution_count": 6,
   "metadata": {},
   "outputs": [
    {
     "name": "stdout",
     "output_type": "stream",
     "text": [
      "My cats name is brian\n"
     ]
    }
   ],
   "source": [
    "my_cat = {\"name\": \"brian\", \"color\": \"mixed\", \"size\": \"medium\", \"disposition\": \"chatty\"}\n",
    "\n",
    "print(\"My cats name is\", my_cat[\"name\"])\n",
    "\n",
    "# bc dict aren't ordered they cannot be sliced like lists \n"
   ]
  },
  {
   "cell_type": "code",
   "execution_count": 11,
   "metadata": {},
   "outputs": [
    {
     "name": "stdout",
     "output_type": "stream",
     "text": [
      "Enter a name: (blank to quit) \n",
      "Alison\n",
      "June 16 is the birthday of Alison\n",
      "Enter a name: (blank to quit) \n",
      "Turbo\n",
      "June 10 is the birthday of Turbo\n",
      "Enter a name: (blank to quit) \n",
      "Taylor\n",
      "March 4 is the birthday of Taylor\n",
      "Enter a name: (blank to quit) \n",
      "Katie\n",
      "I don't have birthday information for them.\n",
      "What is their birthday?\n",
      "May 28\n",
      "Bithday DB updated. \n",
      "Enter a name: (blank to quit) \n",
      "Katie\n",
      "May 28 is the birthday of Katie\n",
      "Enter a name: (blank to quit) \n",
      "Lou\n",
      "I don't have birthday information for them.\n",
      "What is their birthday?\n",
      "July 28\n",
      "Bithday DB updated. \n",
      "Enter a name: (blank to quit) \n",
      "\n"
     ]
    }
   ],
   "source": [
    "# birthdays \n",
    "\n",
    "birthdays = {\"Turbo\": \"June 10\", \"Alison\": \"June 16\", \"Taylor\": \"March 4\", \"Mom\": \"March 28\", \"Dad\": \"February 23\"}\n",
    "\n",
    "while True: \n",
    "    print(\"Enter a name: (blank to quit) \")\n",
    "    name = input()\n",
    "    if name == \"\":\n",
    "        break \n",
    "    \n",
    "    if name in birthdays:\n",
    "        # gets the value of the name jey and prints it\n",
    "        print(birthdays[name], \"is the birthday of\", name)\n",
    "    else:\n",
    "        print(\"I don't have birthday information for them.\")\n",
    "        print(\"What is their birthday?\")\n",
    "        bday = input()\n",
    "        birthdays[name] = bday\n",
    "        print(\"Bithday DB updated. \")"
   ]
  },
  {
   "cell_type": "code",
   "execution_count": 21,
   "metadata": {},
   "outputs": [
    {
     "name": "stdout",
     "output_type": "stream",
     "text": [
      "['Turbo', 'Alison', 'Taylor', 'Mom', 'Dad', 'Katie', 'Lou']\n",
      "{'Turbo': 'June 10', 'Alison': 'June 16', 'Taylor': 'March 4', 'Mom': 'March 28', 'Dad': 'February 23', 'Katie': 'May 28', 'Lou': 'July 28'}\n",
      "Key: Turbo Value: June 10\n",
      "Key: Alison Value: June 16\n",
      "Key: Taylor Value: March 4\n",
      "Key: Mom Value: March 28\n",
      "Key: Dad Value: February 23\n",
      "Key: Katie Value: May 28\n",
      "Key: Lou Value: July 28\n"
     ]
    },
    {
     "data": {
      "text/plain": [
       "True"
      ]
     },
     "execution_count": 21,
     "metadata": {},
     "output_type": "execute_result"
    }
   ],
   "source": [
    "# dict methods \n",
    "\n",
    "# for v in birthdays.values():\n",
    "#     print(v)\n",
    "    \n",
    "# for k in birthdays.keys():\n",
    "#     print(k)\n",
    "    \n",
    "# for i in birthdays.items():\n",
    "#     print(i)\n",
    "    \n",
    "# saving keys (or values) to a list \n",
    "list_of_keys = list(birthdays.keys())\n",
    "print(list_of_keys)\n",
    "print(birthdays)\n",
    "\n",
    "for k,v in birthdays.items():\n",
    "    print(\"Key:\", k, \"Value:\", v)\n",
    "    \n",
    "# you can check whether a key or value is in a dict and it will return t or f \n",
    " \n",
    "\"Alison\" in birthdays.keys()\n",
    "\"June 16\" in birthdays.values()\n",
    "\n"
   ]
  },
  {
   "cell_type": "code",
   "execution_count": 25,
   "metadata": {},
   "outputs": [
    {
     "name": "stdout",
     "output_type": "stream",
     "text": [
      "I am bringing 0 eggs.\n",
      "I am bringing 1 bananas.\n"
     ]
    }
   ],
   "source": [
    "# get() gives you the value of the given key OR 0 as a fallback (or whatever you put)\n",
    "\n",
    "picnic_items = {\"apples\": 5, \"bananas\": 1, \"potato salad\": 1, \"hotdogs\": 10}\n",
    "print(\"I am bringing\", str(picnic_items.get(\"eggs\", 0)), \"eggs.\")\n",
    "print(\"I am bringing\", str(picnic_items.get(\"bananas\", 0)), \"bananas.\")"
   ]
  },
  {
   "cell_type": "code",
   "execution_count": 28,
   "metadata": {},
   "outputs": [
    {
     "name": "stdout",
     "output_type": "stream",
     "text": [
      "{'test': 1, 'test2': 2, 'test3': 3, 'test4': 4}\n",
      "{'test': 1, 'test2': 2, 'test3': 3, 'test4': 4, 'test5': 5}\n"
     ]
    }
   ],
   "source": [
    "test_dict = {\"test\": 1, \"test2\": 2, \"test3\":3}\n",
    "if \"test4\" not in test_dict:\n",
    "             test_dict[\"test4\"] = 4\n",
    "print(test_dict)\n",
    "\n",
    "# setdefault does the same as above \n",
    "# if the key exists it won't be saved \n",
    "\n",
    "test_dict.setdefault(\"test5\", 5)\n",
    "\n",
    "print(test_dict)\n",
    "\n"
   ]
  },
  {
   "cell_type": "code",
   "execution_count": 30,
   "metadata": {},
   "outputs": [
    {
     "name": "stdout",
     "output_type": "stream",
     "text": [
      "{'I': 1, 't': 6, ' ': 13, 'w': 2, 'a': 4, 's': 3, 'b': 1, 'r': 5, 'i': 6, 'g': 2, 'h': 3, 'c': 3, 'o': 2, 'l': 3, 'd': 3, 'y': 1, 'n': 4, 'A': 1, 'p': 1, ',': 1, 'e': 5, 'k': 2, '.': 1}\n",
      "{' ': 13,\n",
      " ',': 1,\n",
      " '.': 1,\n",
      " 'A': 1,\n",
      " 'I': 1,\n",
      " 'a': 4,\n",
      " 'b': 1,\n",
      " 'c': 3,\n",
      " 'd': 3,\n",
      " 'e': 5,\n",
      " 'g': 2,\n",
      " 'h': 3,\n",
      " 'i': 6,\n",
      " 'k': 2,\n",
      " 'l': 3,\n",
      " 'n': 4,\n",
      " 'o': 2,\n",
      " 'p': 1,\n",
      " 'r': 5,\n",
      " 's': 3,\n",
      " 't': 6,\n",
      " 'w': 2,\n",
      " 'y': 1}\n"
     ]
    }
   ],
   "source": [
    "# char count \n",
    "\n",
    "message = \"It was a bright cold day in April, and the clocks were striking thirteen.\"\n",
    "count = {} \n",
    "\n",
    "# loops over the string mesage  to see how often a character appears.\n",
    "for char in message:\n",
    "    count.setdefault(char, 0)\n",
    "    count[char] = count[char] + 1\n",
    "    \n",
    "print(count)\n",
    "\n",
    "\n",
    "# pretty printing \n",
    "import pprint \n",
    "\n",
    "pprint.pprint(count)"
   ]
  },
  {
   "cell_type": "code",
   "execution_count": null,
   "metadata": {},
   "outputs": [],
   "source": [
    "# nesting \n",
    "\n",
    "guests = {\"Katie\": {\"plates\": 10}, \"Turbo\": {\"napkins\": 50}, \"Alison\": {\"Cups\": 40}}"
   ]
  }
 ],
 "metadata": {
  "kernelspec": {
   "display_name": "Python 3",
   "language": "python",
   "name": "python3"
  },
  "language_info": {
   "codemirror_mode": {
    "name": "ipython",
    "version": 3
   },
   "file_extension": ".py",
   "mimetype": "text/x-python",
   "name": "python",
   "nbconvert_exporter": "python",
   "pygments_lexer": "ipython3",
   "version": "3.8.3"
  }
 },
 "nbformat": 4,
 "nbformat_minor": 4
}
