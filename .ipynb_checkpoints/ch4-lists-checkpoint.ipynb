{
 "cells": [
  {
   "cell_type": "code",
   "execution_count": 11,
   "metadata": {},
   "outputs": [
    {
     "name": "stdout",
     "output_type": "stream",
     "text": [
      "['random', 'list', 'of', 'words']\n",
      "random\n",
      "random\n",
      "list\n",
      "of\n",
      "words\n",
      "[['random', 'list', 'of', 'words'], ['random', 'list', 'of', 'words', 'again']]\n",
      "['random', 'list', 'of', 'words']\n",
      "list\n",
      "['NOPE', 'list', 'of', 'words']\n",
      "['NOPE', 'list', 'of', 'words', ['random', 'list', 'of', 'words'], ['random', 'list', 'of', 'words', 'again']]\n",
      "['NOPE', 'of', 'words', ['random', 'list', 'of', 'words'], ['random', 'list', 'of', 'words', 'again']]\n"
     ]
    }
   ],
   "source": [
    "test_list = [\"random\",\"list\", \"of\", \"words\"]\n",
    "\n",
    "print(test_list)\n",
    "print(test_list[0])\n",
    "\n",
    "for item in test_list:\n",
    "    print(item)\n",
    "\n",
    "list_of_list = [[\"random\",\"list\", \"of\", \"words\"], [\"random\",\"list\", \"of\", \"words\", \"again\"]]\n",
    "print(list_of_list)\n",
    "print(list_of_list[0])\n",
    "print(list_of_list[0][1])\n",
    "\n",
    "test_list[0] = \"NOPE\"\n",
    "print(test_list)\n",
    "\n",
    "new_list = test_list + list_of_list\n",
    "print(new_list)\n",
    "\n",
    "del new_list[1]\n",
    "print(new_list)\n",
    "\n"
   ]
  },
  {
   "cell_type": "code",
   "execution_count": 22,
   "metadata": {},
   "outputs": [
    {
     "name": "stdout",
     "output_type": "stream",
     "text": [
      "Index 0in supplies is: pens\n",
      "Index 1in supplies is: staplers\n",
      "Index 2in supplies is: flame-throwers\n",
      "Index 3in supplies is: binders\n"
     ]
    },
    {
     "data": {
      "text/plain": [
       "True"
      ]
     },
     "execution_count": 22,
     "metadata": {},
     "output_type": "execute_result"
    }
   ],
   "source": [
    "supplies = [\"pens\", \"staplers\", \"flame-throwers\", \"binders\"]\n",
    "\n",
    "for i in range(len(supplies)):\n",
    "    print(\"Index \" + str(i) + \"in supplies is: \" + supplies[i])\n",
    "\n",
    "\"pens\" in supplies\n",
    "\"cats\" in supplies\n",
    "\"cats\" not in supplies\n"
   ]
  },
  {
   "cell_type": "code",
   "execution_count": 26,
   "metadata": {},
   "outputs": [
    {
     "name": "stdout",
     "output_type": "stream",
     "text": [
      "Enter a pet name:\n",
      "jo\n",
      "I don't have a pet named jo\n"
     ]
    }
   ],
   "source": [
    "my_pets = [\"Brian\", \"Stephen\", \"Hank\", \"Brian\"]\n",
    "\n",
    "print(\"Enter a pet name:\")\n",
    "name = input()\n",
    "\n",
    "if name not in my_pets:\n",
    "    print(\"I don't have a pet named \" + name)\n",
    "else:\n",
    "    print(name + \" is a pet I have.\")"
   ]
  },
  {
   "cell_type": "code",
   "execution_count": 37,
   "metadata": {},
   "outputs": [
    {
     "name": "stdout",
     "output_type": "stream",
     "text": [
      "['Booboo', 'Booboo', 'Booboo', 'Booboo', 'Booboo', 'Booboo', 'Booboo', 'Brian', 'Brian', 'Max', 'Max', 'Max', 'Max', 'Max', 'Max', 'Max', 'Max', 'Scoobie', 'Scoobie', 'Scoobie', 'Scoobie', 'Scoobie', 'Scoobie', 'Scoobie', 'Scoobie', 'Stephen', 'Scoobie']\n",
      "['Booboo', 'Max', 'Booboo', 'Booboo', 'Booboo', 'Booboo', 'Booboo', 'Booboo', 'Brian', 'Brian', 'Max', 'Max', 'Max', 'Max', 'Max', 'Max', 'Max', 'Max', 'Scoobie', 'Scoobie', 'Scoobie', 'Scoobie', 'Scoobie', 'Scoobie', 'Scoobie', 'Scoobie', 'Stephen', 'Booboo', 'Scoobie']\n",
      "['Booboo', 'Max', 'Booboo', 'Booboo', 'Booboo', 'Booboo', 'Booboo', 'Booboo', 'Brian', 'Brian', 'Max', 'Max', 'Max', 'Max', 'Max', 'Max', 'Max', 'Max', 'Scoobie', 'Scoobie', 'Scoobie', 'Scoobie', 'Scoobie', 'Scoobie', 'Scoobie', 'Scoobie', 'Stephen', 'Booboo', 'Scoobie']\n"
     ]
    },
    {
     "data": {
      "text/plain": [
       "[-50, 0, 1, 44, 62, 75, 500, 666, 4444, 9870, 200000]"
      ]
     },
     "execution_count": 37,
     "metadata": {},
     "output_type": "execute_result"
    }
   ],
   "source": [
    "# list methods \n",
    "\n",
    "# when there are dupes in a list the index of the first one is returned \n",
    "my_pets.index(\"Brian\")\n",
    "\n",
    "# appends to the end of a list \n",
    "my_pets.append(\"Scoobie\")\n",
    "print(my_pets)\n",
    "\n",
    "# insert let's you decide where you add the new value in the list \n",
    "my_pets.insert(1, \"Max\")\n",
    "my_pets.insert(-1, \"Booboo\")\n",
    "print(my_pets)\n",
    "\n",
    "# if a value appears multiple times only the first instance is removed \n",
    "#my_pets.remove(\"Hank\")\n",
    "print(my_pets)\n",
    "\n",
    "# sort sorts the list in place. you cannot save it to a variable \n",
    "# you can't sort lists that have different data types (strings and ints for ex)\n",
    "# if there are mixed capital and lower case sort will count capitals before lowers bc it uses ASCIIbetical order \n",
    "number_list = [500, 44, -50, 62, 200000, 75, 1, 0, 4444, 666, 9870]\n",
    "number_list.sort()\n",
    "number_list\n",
    "# my_pets.sort()\n",
    "# my_pets"
   ]
  },
  {
   "cell_type": "code",
   "execution_count": 39,
   "metadata": {},
   "outputs": [
    {
     "name": "stdout",
     "output_type": "stream",
     "text": [
      "Outlook is not so good\n"
     ]
    }
   ],
   "source": [
    "# magic 8 ball with lists \n",
    "\n",
    "import random \n",
    "\n",
    "messages = [\"It is certain\", \n",
    "            \"It is decidedly so\", \n",
    "            \"Yes, definitely\", \n",
    "            \" Reply hazy try again\", \n",
    "            \"Ask again later\", \n",
    "            \"Concentrate and ask again\",\n",
    "            \"My reply is no\",\n",
    "             \"Outlook is not so good\",\n",
    "             \"Very doubtful\"]\n",
    "print(messages[random.randint(0,len(messages) -1)])"
   ]
  },
  {
   "cell_type": "code",
   "execution_count": 42,
   "metadata": {},
   "outputs": [
    {
     "name": "stdout",
     "output_type": "stream",
     "text": [
      "***K***\n",
      "***a***\n",
      "***t***\n",
      "***i***\n",
      "***e***\n"
     ]
    }
   ],
   "source": [
    "name = \"Katie\"\n",
    "name[0]\n",
    "\n",
    "for char in name:\n",
    "    print(\"***\" + char + \"***\")"
   ]
  },
  {
   "cell_type": "code",
   "execution_count": 1,
   "metadata": {},
   "outputs": [
    {
     "name": "stdout",
     "output_type": "stream",
     "text": [
      "[1, 2, 3, 'hello']\n"
     ]
    }
   ],
   "source": [
    "# lists are mutable meaning you can add, remove, or change values \n",
    "# when using storage methods that are mutable python uses references of the variables since they can change\n",
    "\n",
    "def eggs(parameter):\n",
    "    parameter.append(\"hello\")\n",
    "    \n",
    "spam = [1,2,3]\n",
    "eggs(spam)\n",
    "print(spam)"
   ]
  },
  {
   "cell_type": "code",
   "execution_count": 4,
   "metadata": {},
   "outputs": [
    {
     "name": "stdout",
     "output_type": "stream",
     "text": [
      "['a', 'b', 'c', 'd']\n",
      "['a', 42, 'c', 'd']\n",
      "['a', 'b']\n",
      "['c', 'd']\n"
     ]
    }
   ],
   "source": [
    "import copy\n",
    "spam = [ \"a\", \"b\", \"c\", \"d\"]\n",
    "# makes a copy of the list so you can change it without affecting the original list \n",
    "# if the list you need to copy contains lists you can use deepcopy() which copies the inner lists as well \n",
    "cheese = copy.copy(spam)\n",
    "cheese[1] = 42\n",
    "print(spam)\n",
    "print(cheese)\n",
    "print(spam[:2])\n",
    "print(spam[2:])"
   ]
  },
  {
   "cell_type": "code",
   "execution_count": 22,
   "metadata": {},
   "outputs": [
    {
     "name": "stdout",
     "output_type": "stream",
     "text": [
      "this, is, a, test, list\n",
      "this, is, a, test, list\n"
     ]
    }
   ],
   "source": [
    "# practice project \n",
    "\n",
    "# write a function that takes in a list as an argument and returns a string with all items separated by commas and a space \n",
    "# inserted before the last item \n",
    "\n",
    "def string_maker(a_list):\n",
    "    for string in a_list:\n",
    "        new_string = a_list[0] + \", \" + a_list[1] + \", \" +  a_list[2] + \", \" +  a_list[3] + \", \" +  a_list[4]\n",
    "    print(new_string)\n",
    "    \n",
    "\n",
    "test_list = [\"this\", \"is\", \"a\", \"test\", \"list\"]\n",
    "\n",
    "string_maker(test_list)\n",
    "\n",
    "\n",
    "## a better way\n",
    "\n",
    "def string_maker_better(a_list):\n",
    "    count = 0\n",
    "    new_string = \"\"\n",
    "    while count < len(a_list) - 1:\n",
    "        new_string += a_list[count] + \", \"\n",
    "        count +=1\n",
    "    new_string += a_list[-1] \n",
    "    return new_string \n",
    "\n",
    "print(string_maker_better(test_list))\n",
    "\n"
   ]
  },
  {
   "cell_type": "code",
   "execution_count": 23,
   "metadata": {},
   "outputs": [
    {
     "ename": "IndentationError",
     "evalue": "expected an indented block (<ipython-input-23-39c08de2ab85>, line 3)",
     "output_type": "error",
     "traceback": [
      "\u001b[0;36m  File \u001b[0;32m\"<ipython-input-23-39c08de2ab85>\"\u001b[0;36m, line \u001b[0;32m3\u001b[0m\n\u001b[0;31m    for j in range(len(grid)):\u001b[0m\n\u001b[0m    ^\u001b[0m\n\u001b[0;31mIndentationError\u001b[0m\u001b[0;31m:\u001b[0m expected an indented block\n"
     ]
    }
   ],
   "source": [
    "def print_grid(list_of_lists):\n",
    "    for i in range(len(grid[0])):\n",
    "        for j in range(len(grid)):\n",
    "            print(grid[j][i], end='')\n",
    "            print()\n",
    "\n",
    "grid = [['.', '.', '.', '.', '.', '.'],\n",
    "        ['.', 'O', 'O', '.', '.', '.'],\n",
    "        ['O', 'O', 'O', 'O', '.', '.'],\n",
    "        ['O', 'O', 'O', 'O', 'O', '.'],\n",
    "        ['.', 'O', 'O', 'O', 'O', 'O'],\n",
    "        ['O', 'O', 'O', 'O', 'O', '.'],\n",
    "        ['O', 'O', 'O', 'O', '.', '.'],\n",
    "        ['.', 'O', 'O', '.', '.', '.'],\n",
    "        ['.', '.', '.', '.', '.', '.']]\n",
    "\n",
    "\n",
    "print_grid(grid)"
   ]
  },
  {
   "cell_type": "code",
   "execution_count": null,
   "metadata": {},
   "outputs": [],
   "source": []
  }
 ],
 "metadata": {
  "kernelspec": {
   "display_name": "Python 3",
   "language": "python",
   "name": "python3"
  },
  "language_info": {
   "codemirror_mode": {
    "name": "ipython",
    "version": 3
   },
   "file_extension": ".py",
   "mimetype": "text/x-python",
   "name": "python",
   "nbconvert_exporter": "python",
   "pygments_lexer": "ipython3",
   "version": "3.8.3"
  }
 },
 "nbformat": 4,
 "nbformat_minor": 4
}
