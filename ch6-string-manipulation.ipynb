{
 "cells": [
  {
   "cell_type": "code",
   "execution_count": 6,
   "metadata": {},
   "outputs": [
    {
     "name": "stdout",
     "output_type": "stream",
     "text": [
      "That is Katie\\'s cat\n",
      "That is Katie's cat\n",
      "T\n",
      "t\n",
      "That \n"
     ]
    },
    {
     "data": {
      "text/plain": [
       "True"
      ]
     },
     "execution_count": 6,
     "metadata": {},
     "output_type": "execute_result"
    }
   ],
   "source": [
    "# raw string \n",
    "\n",
    "string = (r\"That is Katie\\'s cat\")\n",
    "print(string)\n",
    "string2 = (\"That is Katie\\'s cat\")\n",
    "print(string2)\n",
    "\n",
    "# string slicing \n",
    "\n",
    "print(string[0])\n",
    "print(string[-1])\n",
    "print(string[0:5])\n",
    "\n",
    "# using in and not in with strings \n",
    "\n",
    "\"that\" in string\n",
    "\"That\" in string\n"
   ]
  },
  {
   "cell_type": "code",
   "execution_count": 18,
   "metadata": {},
   "outputs": [
    {
     "name": "stdout",
     "output_type": "stream",
     "text": [
      "THAT IS KATIE'S CAT\n",
      "that is katie's cat\n"
     ]
    },
    {
     "data": {
      "text/plain": [
       "True"
      ]
     },
     "execution_count": 18,
     "metadata": {},
     "output_type": "execute_result"
    }
   ],
   "source": [
    "# string methods \n",
    "\n",
    "string_upper = string2.upper()\n",
    "print(string_upper)\n",
    "\n",
    "string_lower = string2.lower()\n",
    "print(string_lower)\n",
    "\n",
    "# isupper and islower will return a bool True value if the string has at least one of the characters uppoer or lower\n",
    "\n",
    "\n",
    "lower_string = \"hello\"\n",
    "\n",
    "lower_string.islower()\n",
    "\n",
    "mixed_string = \"HeLLo\"\n",
    "\n",
    "mixed_string.islower()\n",
    "\n",
    "# will return True if all characters consists of letters and no blanks \n",
    "mixed_string.isalpha()\n",
    "\n",
    "# will return True if all char are letters/numbers and no blanks\n",
    "test_string = \"1122hello1122\"\n",
    "test_string.isalnum()\n",
    "\n",
    "# will return if string is only numeric char\n",
    "\n",
    "test_string.isdecimal()\n",
    "\n",
    "# will return true if string is only spaces tabs and newlines \n",
    "space_string = \"   \"\n",
    "space_string.isspace()\n",
    "\n",
    "# will return true if string is title cased (all of it)\n",
    "\n",
    "book_title = \"A Book Title\"\n",
    "book_title.istitle()"
   ]
  },
  {
   "cell_type": "code",
   "execution_count": 22,
   "metadata": {},
   "outputs": [
    {
     "name": "stdout",
     "output_type": "stream",
     "text": [
      "Enter your age:\n",
      "1\n",
      "Select a new password. Letters and numbers only.\n",
      "ffgg%\n",
      "Passwords can only have letters and numbers.\n",
      "Select a new password. Letters and numbers only.\n",
      "hello1234\n"
     ]
    }
   ],
   "source": [
    "# using methods for validation \n",
    "\n",
    "while True:\n",
    "    print(\"Enter your age:\")\n",
    "    age = input()\n",
    "    \n",
    "    if age.isdecimal():\n",
    "        break\n",
    "    print(\"Please enter a number for your age\")\n",
    "    \n",
    "while True:\n",
    "    print(\"Select a new password. Letters and numbers only.\")\n",
    "    pw = input()\n",
    "    \n",
    "    if pw.isalnum():\n",
    "        break\n",
    "    print(\"Passwords can only have letters and numbers.\")"
   ]
  },
  {
   "cell_type": "code",
   "execution_count": 24,
   "metadata": {},
   "outputs": [
    {
     "data": {
      "text/plain": [
       "True"
      ]
     },
     "execution_count": 24,
     "metadata": {},
     "output_type": "execute_result"
    }
   ],
   "source": [
    "\"Hello world\".startswith(\"Hello\")\n",
    "\"Hello world\".endswith(\"d\")"
   ]
  },
  {
   "cell_type": "code",
   "execution_count": 30,
   "metadata": {},
   "outputs": [
    {
     "data": {
      "text/plain": [
       "['My', 'name', 'is', 'katie']"
      ]
     },
     "execution_count": 30,
     "metadata": {},
     "output_type": "execute_result"
    }
   ],
   "source": [
    "\",\".join([\"cats\", \"rats\", \"bats\"])\n",
    "\" \".join([\"My\", \"name\", \"is\", \"Katie\"])\n",
    "\"\".join([\"My\", \"name\", \"is\", \"Katie\"])\n",
    "\n",
    "# converts a string to a list \n",
    "\"My name is katie\".split()"
   ]
  },
  {
   "cell_type": "code",
   "execution_count": 36,
   "metadata": {},
   "outputs": [
    {
     "name": "stdout",
     "output_type": "stream",
     "text": [
      "   hello   \n",
      "hello\n",
      "whaddup\n"
     ]
    }
   ],
   "source": [
    "# removing whitespaces \n",
    "\n",
    "# strip(), rstrip(), lstrip()\n",
    "\n",
    "space_string = \"   hello   \"\n",
    "print(space_string)\n",
    "\n",
    "no_space_string = space_string.strip()\n",
    "print(no_space_string)\n",
    "\n",
    "test_string = \"hihihiwhadduphihihi\"\n",
    "# you can specify what do remove. the order of string passed into strip doesn't matter \n",
    "new = test_string.strip(\"hi\")\n",
    "print(new)\n",
    "\n"
   ]
  },
  {
   "cell_type": "code",
   "execution_count": null,
   "metadata": {},
   "outputs": [],
   "source": []
  },
  {
   "cell_type": "code",
   "execution_count": null,
   "metadata": {},
   "outputs": [],
   "source": []
  }
 ],
 "metadata": {
  "kernelspec": {
   "display_name": "Python 3",
   "language": "python",
   "name": "python3"
  },
  "language_info": {
   "codemirror_mode": {
    "name": "ipython",
    "version": 3
   },
   "file_extension": ".py",
   "mimetype": "text/x-python",
   "name": "python",
   "nbconvert_exporter": "python",
   "pygments_lexer": "ipython3",
   "version": "3.8.3"
  }
 },
 "nbformat": 4,
 "nbformat_minor": 4
}
